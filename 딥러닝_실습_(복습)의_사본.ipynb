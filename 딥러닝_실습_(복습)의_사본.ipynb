{
  "nbformat": 4,
  "nbformat_minor": 0,
  "metadata": {
    "colab": {
      "provenance": [],
      "authorship_tag": "ABX9TyOY8sN6vkBtSd+t5XfWG1nK",
      "include_colab_link": true
    },
    "kernelspec": {
      "name": "python3",
      "display_name": "Python 3"
    },
    "language_info": {
      "name": "python"
    }
  },
  "cells": [
    {
      "cell_type": "markdown",
      "metadata": {
        "id": "view-in-github",
        "colab_type": "text"
      },
      "source": [
        "<a href=\"https://colab.research.google.com/github/hojun1221/deeplearnning_is_essential/blob/main/%EB%94%A5%EB%9F%AC%EB%8B%9D_%EC%8B%A4%EC%8A%B5_(%EB%B3%B5%EC%8A%B5)%EC%9D%98_%EC%82%AC%EB%B3%B8.ipynb\" target=\"_parent\"><img src=\"https://colab.research.google.com/assets/colab-badge.svg\" alt=\"Open In Colab\"/></a>"
      ]
    },
    {
      "cell_type": "markdown",
      "source": [
        "나의 첫 collab입니다!\n",
        "\n"
      ],
      "metadata": {
        "id": "g3ZCbGMSm6Qz"
      }
    },
    {
      "cell_type": "markdown",
      "source": [
        "do it! 딥러닝!"
      ],
      "metadata": {
        "id": "8aLTIWz3nB42"
      }
    },
    {
      "cell_type": "code",
      "source": [
        "print(\"hello world!\")"
      ],
      "metadata": {
        "colab": {
          "base_uri": "https://localhost:8080/"
        },
        "id": "IVwi9w6dnGfK",
        "outputId": "48ea17af-d7a5-44df-924d-c282d2352ffc"
      },
      "execution_count": null,
      "outputs": [
        {
          "output_type": "stream",
          "name": "stdout",
          "text": [
            "hello world!\n"
          ]
        }
      ]
    },
    {
      "cell_type": "code",
      "source": [
        "# 넘파이 패키지 사용\n",
        "import numpy as np"
      ],
      "metadata": {
        "id": "6Y9gSAXRnpJ5"
      },
      "execution_count": null,
      "outputs": []
    },
    {
      "cell_type": "code",
      "source": [
        "my_array = np.array([[10,20,30],[40,50,60]])\n",
        "print(my_array)"
      ],
      "metadata": {
        "colab": {
          "base_uri": "https://localhost:8080/"
        },
        "id": "M9d5IFB7oDXB",
        "outputId": "5297e664-ed40-436a-c22a-84259b743e78"
      },
      "execution_count": null,
      "outputs": [
        {
          "output_type": "stream",
          "name": "stdout",
          "text": [
            "[[10 20 30]\n",
            " [40 50 60]]\n"
          ]
        }
      ]
    },
    {
      "cell_type": "code",
      "source": [
        "type(my_array)"
      ],
      "metadata": {
        "colab": {
          "base_uri": "https://localhost:8080/"
        },
        "id": "X_1yKn3Goahd",
        "outputId": "dcab8563-ddb6-43e9-81bc-3d1015175abe"
      },
      "execution_count": null,
      "outputs": [
        {
          "output_type": "execute_result",
          "data": {
            "text/plain": [
              "numpy.ndarray"
            ]
          },
          "metadata": {},
          "execution_count": 6
        }
      ]
    },
    {
      "cell_type": "code",
      "source": [
        "my_array[0][2]"
      ],
      "metadata": {
        "colab": {
          "base_uri": "https://localhost:8080/"
        },
        "id": "XbQriwi9omJP",
        "outputId": "4c15dcef-67a3-4dd3-f6dc-b741128c9ef9"
      },
      "execution_count": null,
      "outputs": [
        {
          "output_type": "execute_result",
          "data": {
            "text/plain": [
              "30"
            ]
          },
          "metadata": {},
          "execution_count": 7
        }
      ]
    },
    {
      "cell_type": "code",
      "source": [
        "np.sum(my_array)"
      ],
      "metadata": {
        "colab": {
          "base_uri": "https://localhost:8080/"
        },
        "id": "hDcppSvcozTC",
        "outputId": "51fa1597-adc4-467c-f491-1ef9ecfd1346"
      },
      "execution_count": null,
      "outputs": [
        {
          "output_type": "execute_result",
          "data": {
            "text/plain": [
              "210"
            ]
          },
          "metadata": {},
          "execution_count": 8
        }
      ]
    },
    {
      "cell_type": "code",
      "source": [
        "for i in my_array:\n",
        "  print(i)"
      ],
      "metadata": {
        "colab": {
          "base_uri": "https://localhost:8080/"
        },
        "id": "UU4oho2vo7EP",
        "outputId": "a8e1d864-3504-41e3-85b7-4fa126fde6e9"
      },
      "execution_count": null,
      "outputs": [
        {
          "output_type": "stream",
          "name": "stdout",
          "text": [
            "[10 20 30]\n",
            "[40 50 60]\n"
          ]
        }
      ]
    },
    {
      "cell_type": "code",
      "source": [
        "b = np.array([[10,20,30],[40,50,60],[70,80,90]])\n",
        "print(b)"
      ],
      "metadata": {
        "colab": {
          "base_uri": "https://localhost:8080/"
        },
        "id": "vO4pNEvqpNQc",
        "outputId": "e67af814-3dbe-4ea5-cefc-0331729ce7c0"
      },
      "execution_count": null,
      "outputs": [
        {
          "output_type": "stream",
          "name": "stdout",
          "text": [
            "[[10 20 30]\n",
            " [40 50 60]\n",
            " [70 80 90]]\n"
          ]
        }
      ]
    },
    {
      "cell_type": "code",
      "source": [
        "# 맷플롯립 라이브러리 사용\n",
        "import matplotlib.pyplot as plt"
      ],
      "metadata": {
        "id": "qGAci5h9pdlG"
      },
      "execution_count": null,
      "outputs": []
    },
    {
      "cell_type": "code",
      "source": [
        "plt.plot([1,2,3,4,5,6],[1,4,9,16,25,36])\n",
        "plt.show()\n",
        "# plot은 선그래프"
      ],
      "metadata": {
        "colab": {
          "base_uri": "https://localhost:8080/",
          "height": 265
        },
        "id": "iTyvTRWlp7AK",
        "outputId": "68e710c3-086a-4cba-faf6-87e4256c8f5e"
      },
      "execution_count": null,
      "outputs": [
        {
          "output_type": "display_data",
          "data": {
            "text/plain": [
              "<Figure size 432x288 with 1 Axes>"
            ],
            "image/png": "[encoded data removed]"
          },
          "metadata": {
            "needs_background": "light"
          }
        }
      ]
    },
    {
      "cell_type": "code",
      "source": [
        "plt.scatter([1,2,3,4,5],[1,4,9,16,25])\n",
        "plt.show()\n",
        "# scatter는 산점도"
      ],
      "metadata": {
        "colab": {
          "base_uri": "https://localhost:8080/",
          "height": 265
        },
        "id": "-BAUydtfqLCT",
        "outputId": "cbb68d80-ca6a-4725-ad40-5be7d40e9cb1"
      },
      "execution_count": null,
      "outputs": [
        {
          "output_type": "display_data",
          "data": {
            "text/plain": [
              "<Figure size 432x288 with 1 Axes>"
            ],
            "image/png": "[encoded data removed]"
          },
          "metadata": {
            "needs_background": "light"
          }
        }
      ]
    },
    {
      "cell_type": "code",
      "source": [
        "x = np.random.randn(1000)\n",
        "y = np.random.randn(1000)\n",
        "plt.scatter(x,y)\n",
        "plt.show()"
      ],
      "metadata": {
        "colab": {
          "base_uri": "https://localhost:8080/",
          "height": 265
        },
        "id": "pCjFR8WBqY-d",
        "outputId": "1165fbd9-11b7-4434-b7b4-1130bc9b1cc4"
      },
      "execution_count": null,
      "outputs": [
        {
          "output_type": "display_data",
          "data": {
            "text/plain": [
              "<Figure size 432x288 with 1 Axes>"
            ],
            "image/png": "[encoded data removed]"
          },
          "metadata": {
            "needs_background": "light"
          }
        }
      ]
    },
    {
      "cell_type": "code",
      "source": [
        "# 선형회귀를 현실적인 문제에 적용\n",
        "from sklearn.datasets import load_diabetes\n",
        "diabetes = load_diabetes()"
      ],
      "metadata": {
        "id": "iLoRVThfq2_P"
      },
      "execution_count": null,
      "outputs": []
    },
    {
      "cell_type": "code",
      "source": [
        "print(diabetes.data.shape, diabetes.target.shape)"
      ],
      "metadata": {
        "id": "5P7j3YuGscbE",
        "colab": {
          "base_uri": "https://localhost:8080/"
        },
        "outputId": "26911627-be42-41b3-8286-378df439db6e"
      },
      "execution_count": null,
      "outputs": [
        {
          "output_type": "stream",
          "name": "stdout",
          "text": [
            "(442, 10) (442,)\n"
          ]
        }
      ]
    },
    {
      "cell_type": "code",
      "source": [
        "diabetes.data[0:3]"
      ],
      "metadata": {
        "colab": {
          "base_uri": "https://localhost:8080/"
        },
        "id": "uFtkHz-ltg0H",
        "outputId": "4f15c54c-ae71-426c-d526-2bdbcbfb6e89"
      },
      "execution_count": null,
      "outputs": [
        {
          "output_type": "execute_result",
          "data": {
            "text/plain": [
              "array([[ 0.03807591,  0.05068012,  0.06169621,  0.02187239, -0.0442235 ,\n",
              "        -0.03482076, -0.04340085, -0.00259226,  0.01990749, -0.01764613],\n",
              "       [-0.00188202, -0.04464164, -0.05147406, -0.02632753, -0.00844872,\n",
              "        -0.01916334,  0.07441156, -0.03949338, -0.06833155, -0.09220405],\n",
              "       [ 0.08529891,  0.05068012,  0.04445121, -0.00567042, -0.04559945,\n",
              "        -0.03419447, -0.03235593, -0.00259226,  0.00286131, -0.02593034]])"
            ]
          },
          "metadata": {},
          "execution_count": 29
        }
      ]
    },
    {
      "cell_type": "code",
      "source": [
        "diabetes.target[:3]"
      ],
      "metadata": {
        "colab": {
          "base_uri": "https://localhost:8080/"
        },
        "id": "i2YXzPv3t7l_",
        "outputId": "d8603625-3041-42f5-e007-b80e61413bea"
      },
      "execution_count": null,
      "outputs": [
        {
          "output_type": "execute_result",
          "data": {
            "text/plain": [
              "array([151.,  75., 141.])"
            ]
          },
          "metadata": {},
          "execution_count": 30
        }
      ]
    },
    {
      "cell_type": "code",
      "source": [
        "# 당뇨병환자 데이터 시각화하기\n",
        "plt.scatter(diabetes.data[:,2],diabetes.target)\n",
        "plt.xlabel(\"x\")\n",
        "plt.ylabel(\"y\")\n",
        "plt.show()"
      ],
      "metadata": {
        "colab": {
          "base_uri": "https://localhost:8080/",
          "height": 279
        },
        "id": "e79pTBUcuO3p",
        "outputId": "17f7d538-a699-4b4b-b360-78d2d6b75218"
      },
      "execution_count": null,
      "outputs": [
        {
          "output_type": "display_data",
          "data": {
            "text/plain": [
              "<Figure size 432x288 with 1 Axes>"
            ],
            "image/png": "[encoded data removed]"
          },
          "metadata": {
            "needs_background": "light"
          }
        }
      ]
    },
    {
      "cell_type": "code",
      "source": [
        "x = diabetes.data[:,2]\n",
        "y = diabetes.target"
      ],
      "metadata": {
        "id": "uTcLB-aevRUZ"
      },
      "execution_count": null,
      "outputs": []
    },
    {
      "cell_type": "code",
      "source": [
        "w = 1.0\n",
        "b = 1.0\n",
        "y_hat = w*x[0] + b\n",
        "print(y_hat)\n",
        "\n",
        "\n"
      ],
      "metadata": {
        "id": "XEv-dovawT4T",
        "colab": {
          "base_uri": "https://localhost:8080/"
        },
        "outputId": "8fc49198-e655-4655-c4dc-4c819004551f"
      },
      "execution_count": null,
      "outputs": [
        {
          "output_type": "stream",
          "name": "stdout",
          "text": [
            "1.0616962065186832\n"
          ]
        }
      ]
    },
    {
      "cell_type": "code",
      "source": [
        "\n",
        "y[0]"
      ],
      "metadata": {
        "colab": {
          "base_uri": "https://localhost:8080/"
        },
        "id": "E4LFcftyy-h6",
        "outputId": "88ce5c9f-5638-4377-ae5b-c26febc091f8"
      },
      "execution_count": null,
      "outputs": [
        {
          "output_type": "execute_result",
          "data": {
            "text/plain": [
              "151.0"
            ]
          },
          "metadata": {},
          "execution_count": 34
        }
      ]
    },
    {
      "cell_type": "code",
      "source": [
        "w_inc = w + 0.1\n",
        "y_hat_inc = x[0]*w_inc + b\n",
        "print(y_hat_inc)"
      ],
      "metadata": {
        "colab": {
          "base_uri": "https://localhost:8080/"
        },
        "id": "jNpiNT0czCMq",
        "outputId": "a0ddbcf1-df7a-4620-af7e-37e41c19d88f"
      },
      "execution_count": null,
      "outputs": [
        {
          "output_type": "stream",
          "name": "stdout",
          "text": [
            "1.0678658271705517\n"
          ]
        }
      ]
    },
    {
      "cell_type": "code",
      "source": [
        "w_rate = (y_hat_inc - y_hat)/(w_inc - w)\n",
        "\n",
        "print(w_rate)"
      ],
      "metadata": {
        "colab": {
          "base_uri": "https://localhost:8080/"
        },
        "id": "LNTfnl2HzK5w",
        "outputId": "181ae482-4a27-4efe-f6af-98271827f5ed"
      },
      "execution_count": null,
      "outputs": [
        {
          "output_type": "stream",
          "name": "stdout",
          "text": [
            "0.06169620651868429\n"
          ]
        }
      ]
    },
    {
      "cell_type": "code",
      "source": [
        "print(x[0])"
      ],
      "metadata": {
        "id": "JxdYB-iXzzkk",
        "colab": {
          "base_uri": "https://localhost:8080/"
        },
        "outputId": "c7e9e42b-db67-4162-ae7c-0f86dcb9357a"
      },
      "execution_count": null,
      "outputs": [
        {
          "output_type": "stream",
          "name": "stdout",
          "text": [
            "0.061696206518683294\n"
          ]
        }
      ]
    },
    {
      "cell_type": "code",
      "source": [
        "w_new = w + w_rate\n",
        "print(w_new)"
      ],
      "metadata": {
        "colab": {
          "base_uri": "https://localhost:8080/"
        },
        "id": "mF-pv2vR0HAJ",
        "outputId": "6e6ea05f-6496-4f2d-a500-9e76fac9c69c"
      },
      "execution_count": null,
      "outputs": [
        {
          "output_type": "stream",
          "name": "stdout",
          "text": [
            "1.0616962065186843\n"
          ]
        }
      ]
    },
    {
      "cell_type": "code",
      "source": [
        "err = y[0]-y_hat\n",
        "w_new = w+w_rate*err\n",
        "b_new = b+1*err\n",
        "print(w_new,b_new)"
      ],
      "metadata": {
        "colab": {
          "base_uri": "https://localhost:8080/"
        },
        "id": "U4nviRv-1p6W",
        "outputId": "b8dfd322-40a4-4ef2-891d-aae32dd57bed"
      },
      "execution_count": null,
      "outputs": [
        {
          "output_type": "stream",
          "name": "stdout",
          "text": [
            "10.250624555903848 150.9383037934813\n"
          ]
        }
      ]
    },
    {
      "cell_type": "code",
      "source": [
        "# 두번째 샘플 사용\n",
        "y_hat = x[1]*w_new+b_new\n",
        "err = y[1]-y_hat\n",
        "w_rate = x[1]\n",
        "w_new = w_new+w_rate*err\n",
        "b_new = b_new+1*err\n",
        "print(w_new,b_new)"
      ],
      "metadata": {
        "id": "rYxHPjyV48Z1",
        "colab": {
          "base_uri": "https://localhost:8080/"
        },
        "outputId": "2174ca02-1917-4b08-e1ee-265bb18762f9"
      },
      "execution_count": null,
      "outputs": [
        {
          "output_type": "stream",
          "name": "stdout",
          "text": [
            "14.132317616380695 75.52764127612656\n"
          ]
        }
      ]
    },
    {
      "cell_type": "code",
      "source": [
        "for x_i,y_i in zip(x,y):\n",
        "  y_hat = x_i*w+b\n",
        "  err = y_i - y_hat\n",
        "  w_rate = x_i\n",
        "  w = w + w_rate*err\n",
        "  b = b + 1*err\n",
        "print(w,b)"
      ],
      "metadata": {
        "colab": {
          "base_uri": "https://localhost:8080/"
        },
        "id": "nXjEw4Z65q8Y",
        "outputId": "6dfe1d4c-1f79-45bb-f083-9d1c6ff2ad24"
      },
      "execution_count": null,
      "outputs": [
        {
          "output_type": "stream",
          "name": "stdout",
          "text": [
            "587.8654539985616 99.4093556453094\n"
          ]
        }
      ]
    },
    {
      "cell_type": "code",
      "source": [
        "plt.scatter(x,y)\n",
        "pt1 = (-0.1,0.1*w+b)\n",
        "pt2 = (0.15,0.15*w+b)\n",
        "plt.plot([pt1[0],pt2[0]],[pt1[1],pt2[1]])\n",
        "plt.xlabel('x')\n",
        "plt.ylabel('y')\n",
        "plt.show()"
      ],
      "metadata": {
        "id": "JRRE0u0fP9u0",
        "colab": {
          "base_uri": "https://localhost:8080/",
          "height": 279
        },
        "outputId": "3b23a29b-613c-4334-d51f-f40478fab45f"
      },
      "execution_count": null,
      "outputs": [
        {
          "output_type": "display_data",
          "data": {
            "text/plain": [
              "<Figure size 432x288 with 1 Axes>"
            ],
            "image/png": "[encoded data removed]"
          },
          "metadata": {
            "needs_background": "light"
          }
        }
      ]
    },
    {
      "cell_type": "code",
      "source": [
        "for i in range(1,10000):\n",
        "  for x_i,y_i in zip(x,y):\n",
        "    y_hat = x_i*w+b\n",
        "    err = y_i - y_hat\n",
        "    w_rate = x_i\n",
        "    w = w + w_rate*err\n",
        "    b = b + 1*err\n",
        "print(w,b)"
      ],
      "metadata": {
        "colab": {
          "base_uri": "https://localhost:8080/"
        },
        "id": "AXBkNGjcR5JH",
        "outputId": "3ef792c8-0363-4286-b86d-7fc92664d57b"
      },
      "execution_count": null,
      "outputs": [
        {
          "output_type": "stream",
          "name": "stdout",
          "text": [
            "913.5973364346786 123.39414383177173\n"
          ]
        }
      ]
    },
    {
      "cell_type": "code",
      "source": [
        "plt.scatter(x,y)\n",
        "pt1 = (-0.1,0.1*w+b)\n",
        "pt2 = (0.15,0.15*w+b)\n",
        "plt.plot([pt1[0],pt2[0]],[pt1[1],pt2[1]])\n",
        "plt.xlabel('x')\n",
        "plt.ylabel('y')\n",
        "plt.show()"
      ],
      "metadata": {
        "id": "-Dk1GDNZSOmS",
        "colab": {
          "base_uri": "https://localhost:8080/",
          "height": 279
        },
        "outputId": "c7541f29-a306-493e-9402-fe98093ff731"
      },
      "execution_count": null,
      "outputs": [
        {
          "output_type": "display_data",
          "data": {
            "text/plain": [
              "<Figure size 432x288 with 1 Axes>"
            ],
            "image/png": "[encoded data removed]"
          },
          "metadata": {
            "needs_background": "light"
          }
        }
      ]
    },
    {
      "cell_type": "code",
      "source": [
        "x_new = 0.18\n",
        "y_pred = x_new*w +b\n",
        "print(y_pred)\n",
        "\n"
      ],
      "metadata": {
        "id": "-BtaD8rISTqj",
        "colab": {
          "base_uri": "https://localhost:8080/"
        },
        "outputId": "b9f68359-b9ba-4c80-98b0-2b2eb20cccb4"
      },
      "execution_count": null,
      "outputs": [
        {
          "output_type": "stream",
          "name": "stdout",
          "text": [
            "287.8416643900139\n"
          ]
        }
      ]
    },
    {
      "cell_type": "code",
      "source": [
        "plt.scatter(x,y)\n",
        "plt.scatter(x_new,y_pred)\n",
        "plt.xlabel('x')\n",
        "plt.ylabel('y')\n",
        "plt.show()"
      ],
      "metadata": {
        "id": "GjGlHI89Y5c6",
        "colab": {
          "base_uri": "https://localhost:8080/",
          "height": 279
        },
        "outputId": "7328278b-c1ba-4674-891d-afd8042276e7"
      },
      "execution_count": null,
      "outputs": [
        {
          "output_type": "display_data",
          "data": {
            "text/plain": [
              "<Figure size 432x288 with 1 Axes>"
            ],
            "image/png": "[encoded data removed]"
          },
          "metadata": {
            "needs_background": "light"
          }
        }
      ]
    },
    {
      "cell_type": "code",
      "source": [
        "# 선형 회귀를 위한 뉴런 만들기\n",
        "class Neuron:\n",
        "  def __init__(self):\n",
        "    self.w = 1.0\n",
        "    self.b = 1.0\n",
        "    \n",
        "  def forpass(self,x):\n",
        "   y_hat = x*self.w + self.b\n",
        "   return y_hat\n",
        "\n",
        "  def backprop(self,x,err):\n",
        "    w_grad = x*err\n",
        "    b_grad = 1*err\n",
        "    return w_grad,b_grad\n",
        "\n",
        "  def fit(self,x,y,epochs=100):\n",
        "    for i in range(epochs):\n",
        "      for x_i,y_i in zip(x,y):\n",
        "        y_hat = self.forpass(x_i)\n",
        "        err = -(y_i - y_hat)\n",
        "        w_grad,b_grad = self.backprop(x_i,err)\n",
        "        self.w = self.w - w_grad\n",
        "        self.b = self.b - b_grad"
      ],
      "metadata": {
        "id": "mOKuV_snZQGi"
      },
      "execution_count": null,
      "outputs": []
    },
    {
      "cell_type": "code",
      "source": [
        "neuron = Neuron()\n",
        "neuron.fit(x,y)"
      ],
      "metadata": {
        "id": "jtMAR6mKT8yF"
      },
      "execution_count": null,
      "outputs": []
    },
    {
      "cell_type": "code",
      "source": [
        "plt.scatter(x,y)\n",
        "pt1 = (-0.1,-0.1*neuron.w + neuron.b)\n",
        "pt2 = (0.15,0.15*neuron.w + neuron.b)\n",
        "plt.plot([pt1[0],pt2[0]],[pt1[1],pt2[1]])\n",
        "plt.xlabel('x')\n",
        "plt.ylabel('y')\n",
        "plt.show()"
      ],
      "metadata": {
        "id": "2dsOEh6wUYFq",
        "colab": {
          "base_uri": "https://localhost:8080/",
          "height": 279
        },
        "outputId": "3819b018-116b-4831-c5ea-a049e3de07a3"
      },
      "execution_count": null,
      "outputs": [
        {
          "output_type": "display_data",
          "data": {
            "text/plain": [
              "<Figure size 432x288 with 1 Axes>"
            ],
            "image/png": "[encoded data removed]"
          },
          "metadata": {
            "needs_background": "light"
          }
        }
      ]
    },
    {
      "cell_type": "markdown",
      "source": [
        "*# 1~3장 끝*"
      ],
      "metadata": {
        "id": "sfv4SwnncXXY"
      }
    },
    {
      "cell_type": "code",
      "source": [],
      "metadata": {
        "id": "zGD_YG5ecjQf"
      },
      "execution_count": null,
      "outputs": []
    }
  ]
}